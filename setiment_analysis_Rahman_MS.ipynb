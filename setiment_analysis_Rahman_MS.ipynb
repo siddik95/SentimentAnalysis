{
 "cells": [
  {
   "cell_type": "code",
   "execution_count": 1,
   "id": "79657c6b-941b-4ac6-8911-cbced8ba0777",
   "metadata": {},
   "outputs": [],
   "source": [
    "#import necessary library\n",
    "import pandas as pd\n",
    "import numpy as np\n",
    "import os"
   ]
  },
  {
   "cell_type": "markdown",
   "id": "f1fd6afa-3a34-4313-adb0-f30043eb62c4",
   "metadata": {},
   "source": [
    "I will use here some hotel reviews data. Each observation consists in one customer review for one hotel. Each customer review is composed of a textual feedback of the customer's experience at the hotel and an overall rating. The data can be found here: https://www.kaggle.com/jiashenliu/515k-hotel-reviews-data-in-europe\r\n",
    "\r\n",
    "For each textual reviewIwe want to predict if it corresponds to a good review (the customer is happy) or to a bad one (the customer is not satisfied). The reviews overall ratings can range from 2.5/10 to 10/10. In order to simplify the problem we will split those into two categories:\r\n",
    "\r\n",
    "bad reviews have overall ratings < 5\r\n",
    "good reviews have overall ratings >= 5\r\n",
    "The challenge here is to be able to predict this information using only the raw textual data from the review. Let's get it started!"
   ]
  },
  {
   "cell_type": "code",
   "execution_count": 20,
   "id": "899203d1-7ab4-4538-a0fa-e6a9ddca38ac",
   "metadata": {},
   "outputs": [
    {
     "name": "stdout",
     "output_type": "stream",
     "text": [
      "<class 'pandas.core.frame.DataFrame'>\n",
      "RangeIndex: 515738 entries, 0 to 515737\n",
      "Data columns (total 17 columns):\n",
      " #   Column                                      Non-Null Count   Dtype  \n",
      "---  ------                                      --------------   -----  \n",
      " 0   Hotel_Address                               515738 non-null  object \n",
      " 1   Additional_Number_of_Scoring                515738 non-null  int64  \n",
      " 2   Review_Date                                 515738 non-null  object \n",
      " 3   Average_Score                               515738 non-null  float64\n",
      " 4   Hotel_Name                                  515738 non-null  object \n",
      " 5   Reviewer_Nationality                        515738 non-null  object \n",
      " 6   Negative_Review                             515738 non-null  object \n",
      " 7   Review_Total_Negative_Word_Counts           515738 non-null  int64  \n",
      " 8   Total_Number_of_Reviews                     515738 non-null  int64  \n",
      " 9   Positive_Review                             515738 non-null  object \n",
      " 10  Review_Total_Positive_Word_Counts           515738 non-null  int64  \n",
      " 11  Total_Number_of_Reviews_Reviewer_Has_Given  515738 non-null  int64  \n",
      " 12  Reviewer_Score                              515738 non-null  float64\n",
      " 13  Tags                                        515738 non-null  object \n",
      " 14  days_since_review                           515738 non-null  object \n",
      " 15  lat                                         512470 non-null  float64\n",
      " 16  lng                                         512470 non-null  float64\n",
      "dtypes: float64(4), int64(5), object(8)\n",
      "memory usage: 66.9+ MB\n"
     ]
    }
   ],
   "source": [
    "#read the already downloaded data\n",
    "df = pd.read_csv(r\"F:\\onedrive\\OneDrive - University of Central Florida\\Data Mining I\\Data\\Hotel_Reviews.csv\")\n",
    "df.info()"
   ]
  },
  {
   "cell_type": "code",
   "execution_count": 21,
   "id": "d416178d-c14c-4600-b00e-a3458afcebbf",
   "metadata": {},
   "outputs": [
    {
     "data": {
      "text/html": [
       "<div>\n",
       "<style scoped>\n",
       "    .dataframe tbody tr th:only-of-type {\n",
       "        vertical-align: middle;\n",
       "    }\n",
       "\n",
       "    .dataframe tbody tr th {\n",
       "        vertical-align: top;\n",
       "    }\n",
       "\n",
       "    .dataframe thead th {\n",
       "        text-align: right;\n",
       "    }\n",
       "</style>\n",
       "<table border=\"1\" class=\"dataframe\">\n",
       "  <thead>\n",
       "    <tr style=\"text-align: right;\">\n",
       "      <th></th>\n",
       "      <th>text</th>\n",
       "      <th>label</th>\n",
       "    </tr>\n",
       "  </thead>\n",
       "  <tbody>\n",
       "    <tr>\n",
       "      <th>0</th>\n",
       "      <td>I am so angry that i made this post available...</td>\n",
       "      <td>0</td>\n",
       "    </tr>\n",
       "    <tr>\n",
       "      <th>1</th>\n",
       "      <td>No Negative No real complaints the hotel was g...</td>\n",
       "      <td>1</td>\n",
       "    </tr>\n",
       "    <tr>\n",
       "      <th>2</th>\n",
       "      <td>Rooms are nice but for elderly a bit difficul...</td>\n",
       "      <td>1</td>\n",
       "    </tr>\n",
       "    <tr>\n",
       "      <th>3</th>\n",
       "      <td>My room was dirty and I was afraid to walk ba...</td>\n",
       "      <td>0</td>\n",
       "    </tr>\n",
       "    <tr>\n",
       "      <th>4</th>\n",
       "      <td>You When I booked with your company on line y...</td>\n",
       "      <td>1</td>\n",
       "    </tr>\n",
       "  </tbody>\n",
       "</table>\n",
       "</div>"
      ],
      "text/plain": [
       "                                                text  label\n",
       "0   I am so angry that i made this post available...      0\n",
       "1  No Negative No real complaints the hotel was g...      1\n",
       "2   Rooms are nice but for elderly a bit difficul...      1\n",
       "3   My room was dirty and I was afraid to walk ba...      0\n",
       "4   You When I booked with your company on line y...      1"
      ]
     },
     "execution_count": 21,
     "metadata": {},
     "output_type": "execute_result"
    }
   ],
   "source": [
    "#Since every since review could have both positive and negative parts. I will append both of together as review\n",
    "df[\"text\"] = df[\"Negative_Review\"] + df[\"Positive_Review\"]\n",
    "df['label'] = df['Reviewer_Score'].apply(lambda x: 1 if x>=5 else 0)\n",
    "df = df[['text', 'label']]\n",
    "df.head()"
   ]
  },
  {
   "cell_type": "code",
   "execution_count": null,
   "id": "85a2be31-1161-4fb6-9a90-ebf12c005f4e",
   "metadata": {},
   "outputs": [],
   "source": [
    "from openai import OpenAI\n",
    "client = OpenAI(api_key=\"Your API key\")\n",
    "def classify_sentiment(text):\n",
    "    response = list(client.chat.completions.create(\n",
    "        model=\"gpt-3.5-turbo\",\n",
    "        messages=[\n",
    "            {\"role\": \"system\", \"content\": \"Analyze the sentiment of the text and rate the sentiment from -1 to 1, 1 is super positive, -1 is super negative, 0 is neutral.\"},\n",
    "            {\"role\": \"user\", \"content\": text}\n",
    "        ]\n",
    "    ).choices)[0].message.content\n",
    "    return response"
   ]
  },
  {
   "cell_type": "code",
   "execution_count": null,
   "id": "87561290-2fcb-4f0f-b8c4-d2c1a7c78892",
   "metadata": {},
   "outputs": [],
   "source": [
    "# Apply the classification function to each entry in the DataFrame\n",
    "df['sentiment'] = ''\n",
    "for j in range(df.shape[0]):\n",
    "    if df.loc[j,'sentiment'] == '':\n",
    "        try:\n",
    "            df.loc[j,'sentiment'] = classify_sentiment(df.loc[j,'text'])\n",
    "            df.to_csv('review_with_sentiment_updated.csv')\n",
    "        except Exception as e:\n",
    "            continue"
   ]
  },
  {
   "cell_type": "code",
   "execution_count": 3,
   "id": "6bbfa617-7348-44ad-95dc-59e06306ee94",
   "metadata": {},
   "outputs": [
    {
     "name": "stdout",
     "output_type": "stream",
     "text": [
      "<class 'pandas.core.frame.DataFrame'>\n",
      "Index: 88463 entries, 8 to 98501\n",
      "Data columns (total 4 columns):\n",
      " #   Column      Non-Null Count  Dtype \n",
      "---  ------      --------------  ----- \n",
      " 0   Unnamed: 0  88463 non-null  int64 \n",
      " 1   text        88463 non-null  object\n",
      " 2   label       88463 non-null  int64 \n",
      " 3   sentiment   88463 non-null  object\n",
      "dtypes: int64(2), object(2)\n",
      "memory usage: 3.4+ MB\n"
     ]
    },
    {
     "name": "stderr",
     "output_type": "stream",
     "text": [
      "C:\\Users\\mo314794\\AppData\\Local\\Temp\\ipykernel_15296\\2069459310.py:2: DtypeWarning: Columns (3) have mixed types. Specify dtype option on import or set low_memory=False.\n",
      "  data = pd.read_csv(r'review_with_sentiment_updated.csv')\n"
     ]
    }
   ],
   "source": [
    "#import the saved data\n",
    "import pandas as pd\n",
    "data = pd.read_csv(r'review_with_sentiment_updated.csv')\n",
    "data.dropna(inplace = True)\n",
    "data.info()"
   ]
  },
  {
   "cell_type": "code",
   "execution_count": 12,
   "id": "700b802f-1204-4c96-93af-5e64d804107c",
   "metadata": {},
   "outputs": [
    {
     "data": {
      "text/plain": [
       "8        The sentiment of the text is negative due to c...\n",
       "28       The sentiment of the text is mixed. While it m...\n",
       "47       The sentiment of the text is generally positiv...\n",
       "66       The sentiment of the text is mixed. While ther...\n",
       "86       The sentiment of the text is mostly mixed. Whi...\n",
       "                               ...                        \n",
       "98497    The sentiment of the text is very positive. Th...\n",
       "98498    The sentiment of the text is primarily negativ...\n",
       "98499    The sentiment of the text is generally positiv...\n",
       "98500    The sentiment of the text is mostly positive, ...\n",
       "98501    The sentiment of the text is very positive. Th...\n",
       "Name: sentiment, Length: 88463, dtype: object"
      ]
     },
     "execution_count": 12,
     "metadata": {},
     "output_type": "execute_result"
    }
   ],
   "source": [
    "data.loc[data['sentiment'] != '','sentiment']"
   ]
  },
  {
   "cell_type": "code",
   "execution_count": 18,
   "id": "034f64fa-0767-4529-8a7b-c4509d308c4c",
   "metadata": {},
   "outputs": [],
   "source": [
    "#drop previous index column\n",
    "data =data.drop('Unnamed: 0', axis=1)"
   ]
  },
  {
   "cell_type": "code",
   "execution_count": 23,
   "id": "32719d99-3af0-4e1f-aa9c-3ae6103a7db0",
   "metadata": {},
   "outputs": [
    {
     "name": "stdout",
     "output_type": "stream",
     "text": [
      "The sentiment of the text is negative due to complaints about the cleanliness of the room and a delay in check-in time. Therefore, I would rate the sentiment as -0.8.\n",
      " Even though the pictures show very clean rooms the actual room was quit dirty and outlived Also check in is at 15 o clock but our room was not ready at that timeNo Positive\n"
     ]
    }
   ],
   "source": [
    "#see the original and predicted sentiment\n",
    "data.head()\n",
    "data.reset_index(inplace = True)\n",
    "print(data.loc[0,'sentiment'])\n",
    "print(data.loc[0,'text'])"
   ]
  },
  {
   "cell_type": "code",
   "execution_count": 24,
   "id": "42960d31-9e03-45d3-a7e0-c8a4b5f5d9e4",
   "metadata": {},
   "outputs": [
    {
     "name": "stderr",
     "output_type": "stream",
     "text": [
      "F:\\Anaconda\\envs\\learning\\lib\\site-packages\\numpy\\core\\fromnumeric.py:3504: RuntimeWarning: Mean of empty slice.\n",
      "  return _methods._mean(a, axis=axis, dtype=dtype,\n",
      "F:\\Anaconda\\envs\\learning\\lib\\site-packages\\numpy\\core\\_methods.py:129: RuntimeWarning: invalid value encountered in scalar divide\n",
      "  ret = ret.dtype.type(ret / rcount)\n"
     ]
    }
   ],
   "source": [
    "#extract only values from the entire text\n",
    "import numpy as np\n",
    "data['extracted_sentiment'] = data['sentiment'].str.findall(r'[-+]?\\d*\\.\\d+|\\d+')\n",
    "# Function to filter numbers within the range of -1 to 1\n",
    "def filter_numbers(matches):\n",
    "    filtered = [float(num) for num in matches if -1 <= float(num) <= 1]\n",
    "    return np.median(filtered)\n",
    "\n",
    "data['extracted_sentiment'] = data['extracted_sentiment'].apply(filter_numbers)"
   ]
  },
  {
   "cell_type": "code",
   "execution_count": 26,
   "id": "b3d7c112-49d2-4dd6-83e1-f1fd69a0e32d",
   "metadata": {},
   "outputs": [
    {
     "data": {
      "text/plain": [
       "0       -0.8\n",
       "1        0.5\n",
       "2        0.5\n",
       "3        0.2\n",
       "4        0.2\n",
       "        ... \n",
       "88458    1.0\n",
       "88459   -0.5\n",
       "88460    0.7\n",
       "88461    0.6\n",
       "88462    1.0\n",
       "Name: extracted_sentiment, Length: 88463, dtype: float64"
      ]
     },
     "execution_count": 26,
     "metadata": {},
     "output_type": "execute_result"
    }
   ],
   "source": [
    "data.loc[data['sentiment'] != '','extracted_sentiment']"
   ]
  },
  {
   "cell_type": "code",
   "execution_count": 27,
   "id": "2a7eb04d-1fcb-4582-8ec8-c83de379be85",
   "metadata": {},
   "outputs": [
    {
     "data": {
      "text/plain": [
       "<Axes: >"
      ]
     },
     "execution_count": 27,
     "metadata": {},
     "output_type": "execute_result"
    },
    {
     "data": {
      "image/png": "[encoded data removed]",
      "text/plain": [
       "<Figure size 640x480 with 1 Axes>"
      ]
     },
     "metadata": {},
     "output_type": "display_data"
    }
   ],
   "source": [
    "data['extracted_sentiment'].hist()"
   ]
  },
  {
   "cell_type": "code",
   "execution_count": 28,
   "id": "f9cdc82b-a445-4502-8039-e73df7c4437b",
   "metadata": {},
   "outputs": [
    {
     "data": {
      "text/plain": [
       "<Axes: title={'center': 'extracted_sentiment'}, xlabel='label'>"
      ]
     },
     "execution_count": 28,
     "metadata": {},
     "output_type": "execute_result"
    },
    {
     "data": {
      "image/png": "[encoded data removed]",
      "text/plain": [
       "<Figure size 640x480 with 1 Axes>"
      ]
     },
     "metadata": {},
     "output_type": "display_data"
    }
   ],
   "source": [
    "data[['label','extracted_sentiment']]\n",
    "data.boxplot(\n",
    "    column = 'extracted_sentiment',\n",
    "    by = 'label'\n",
    ")\n",
    "plt.show("
   ]
  },
  {
   "cell_type": "code",
   "execution_count": 30,
   "id": "3d5e67be-b036-4aad-9427-52f28c973924",
   "metadata": {},
   "outputs": [
    {
     "data": {
      "text/html": [
       "<div>\n",
       "<style scoped>\n",
       "    .dataframe tbody tr th:only-of-type {\n",
       "        vertical-align: middle;\n",
       "    }\n",
       "\n",
       "    .dataframe tbody tr th {\n",
       "        vertical-align: top;\n",
       "    }\n",
       "\n",
       "    .dataframe thead th {\n",
       "        text-align: right;\n",
       "    }\n",
       "</style>\n",
       "<table border=\"1\" class=\"dataframe\">\n",
       "  <thead>\n",
       "    <tr style=\"text-align: right;\">\n",
       "      <th>extracted_sentiment</th>\n",
       "      <th>-1.0</th>\n",
       "      <th>0.0</th>\n",
       "      <th>1.0</th>\n",
       "    </tr>\n",
       "    <tr>\n",
       "      <th>label</th>\n",
       "      <th></th>\n",
       "      <th></th>\n",
       "      <th></th>\n",
       "    </tr>\n",
       "  </thead>\n",
       "  <tbody>\n",
       "    <tr>\n",
       "      <th>0</th>\n",
       "      <td>2940</td>\n",
       "      <td>237</td>\n",
       "      <td>691</td>\n",
       "    </tr>\n",
       "    <tr>\n",
       "      <th>1</th>\n",
       "      <td>17555</td>\n",
       "      <td>9894</td>\n",
       "      <td>57135</td>\n",
       "    </tr>\n",
       "  </tbody>\n",
       "</table>\n",
       "</div>"
      ],
      "text/plain": [
       "extracted_sentiment   -1.0   0.0    1.0\n",
       "label                                  \n",
       "0                     2940   237    691\n",
       "1                    17555  9894  57135"
      ]
     },
     "execution_count": 30,
     "metadata": {},
     "output_type": "execute_result"
    }
   ],
   "source": [
    "pd.crosstab(\n",
    "    index = data['label'],\n",
    "    columns = np.sign(data['extracted_sentiment'])\n",
    ")"
   ]
  },
  {
   "cell_type": "code",
   "execution_count": 31,
   "id": "a8e63e0a-7133-4c77-8ae8-252687fa55fa",
   "metadata": {},
   "outputs": [
    {
     "data": {
      "image/png": "[encoded data removed]",
      "text/plain": [
       "<Figure size 640x480 with 1 Axes>"
      ]
     },
     "metadata": {},
     "output_type": "display_data"
    }
   ],
   "source": [
    "from sklearn.metrics import roc_curve, auc\n",
    "import matplotlib.pyplot as plt\n",
    "fpr, tpr, thresholds = roc_curve(\n",
    "    y_true = data.loc[~data['extracted_sentiment'].isna(),'label'],\n",
    "    y_score = data.loc[~data['extracted_sentiment'].isna(),'extracted_sentiment']\n",
    ")\n",
    "roc_auc = auc(fpr, tpr)\n",
    "# Plot ROC curve\n",
    "plt.plot(fpr, tpr, color='blue', lw=2, label=f'ROC curve (area = {roc_auc:.2f})')\n",
    "plt.plot([0, 1], [0, 1], color='gray', lw=2, linestyle='--')\n",
    "plt.xlim([0.0, 1.0])\n",
    "plt.ylim([0.0, 1.05])\n",
    "plt.xlabel('False Positive Rate')\n",
    "plt.ylabel('True Positive Rate')\n",
    "plt.title('Receiver Operating Characteristic (ROC) Curve')\n",
    "plt.legend(loc='lower right')\n",
    "plt.show()"
   ]
  },
  {
   "cell_type": "code",
   "execution_count": null,
   "id": "f5dc52f0-311d-42f7-8a08-f1b4ae7b575f",
   "metadata": {},
   "outputs": [],
   "source": []
  }
 ],
 "metadata": {
  "kernelspec": {
   "display_name": "Python 3 (ipykernel)",
   "language": "python",
   "name": "python3"
  },
  "language_info": {
   "codemirror_mode": {
    "name": "ipython",
    "version": 3
   },
   "file_extension": ".py",
   "mimetype": "text/x-python",
   "name": "python",
   "nbconvert_exporter": "python",
   "pygments_lexer": "ipython3",
   "version": "3.11.13"
  }
 },
 "nbformat": 4,
 "nbformat_minor": 5
}
